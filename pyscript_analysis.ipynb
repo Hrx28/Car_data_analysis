{
 "cells": [
  {
   "cell_type": "code",
   "execution_count": 20,
   "id": "f03e9432",
   "metadata": {},
   "outputs": [
    {
     "name": "stdout",
     "output_type": "stream",
     "text": [
      "hello\n"
     ]
    }
   ],
   "source": []
  },
  {
   "cell_type": "code",
   "execution_count": 21,
   "id": "df82cc1a",
   "metadata": {},
   "outputs": [],
   "source": [
    "import pandas as pd\n",
    "file_path = r'C:\\Users\\harsh\\Downloads\\data_for_analysis.xlsx'\n",
    "excel_data = pd.ExcelFile(file_path)\n",
    "dataset_df = pd.read_excel(file_path, sheet_name='Dataset')\n"
   ]
  },
  {
   "cell_type": "code",
   "execution_count": 22,
   "id": "f7d00573",
   "metadata": {},
   "outputs": [],
   "source": [
    "vehicles_by_date = dataset_df.groupby('Inspection date')['Vehicle ID'].nunique().reset_index()\n",
    "most_frequent_parts = dataset_df['Part detected'].value_counts().reset_index()\n"
   ]
  },
  {
   "cell_type": "code",
   "execution_count": 23,
   "id": "59d8d866",
   "metadata": {},
   "outputs": [],
   "source": [
    "'''least detected parts'''\n",
    "least_frequent_parts = most_frequent_parts.iloc[::-1].reset_index(drop=True)"
   ]
  },
  {
   "cell_type": "code",
   "execution_count": 24,
   "id": "827be8cf",
   "metadata": {},
   "outputs": [],
   "source": [
    "'''thouroghly all parts'''\n",
    "unique_parts = dataset_df['Part detected'].unique()\n",
    "vehicle_parts = dataset_df.groupby('Vehicle ID')['Part detected'].nunique().reset_index()\n",
    "vehicles_thoroughly_inspected = vehicle_parts[vehicle_parts['Part detected'] == len(unique_parts)]"
   ]
  },
  {
   "cell_type": "code",
   "execution_count": 25,
   "id": "24ac31b2",
   "metadata": {},
   "outputs": [],
   "source": [
    "'''parts detected more than three tyms'''\n",
    "inspection_part_counts = dataset_df.groupby(['Inspection ID', 'Part detected']).size().reset_index(name='Counts')\n",
    "parts_detected_3_or_more = inspection_part_counts[inspection_part_counts['Counts'] >= 3]"
   ]
  },
  {
   "cell_type": "code",
   "execution_count": 26,
   "id": "91ec755b",
   "metadata": {},
   "outputs": [],
   "source": [
    "'''inspected most no. of tyms'''\n",
    "vehicle_inspection_counts = dataset_df['Vehicle ID'].value_counts().reset_index()\n",
    "vehicle_inspection_counts.columns = ['Vehicle ID', 'Number of Inspections']"
   ]
  },
  {
   "cell_type": "code",
   "execution_count": 27,
   "id": "57bfd354",
   "metadata": {},
   "outputs": [],
   "source": [
    "'''parts detected with all the inspection ids, to check if they have poor or gud coverage'''\n",
    "inspection_part_counts = dataset_df.groupby(['Vehicle ID','Inspection ID', 'Part detected']).size().reset_index(name='Counts')\n",
    "parts_detected_less_then3 = inspection_part_counts[inspection_part_counts['Counts']>=1]"
   ]
  },
  {
   "cell_type": "code",
   "execution_count": 28,
   "id": "2bf63192",
   "metadata": {},
   "outputs": [],
   "source": [
    "output_file_path = r'C:\\Users\\harsh\\OneDrive\\Desktop\\final1.xlsx'\n",
    "with pd.ExcelWriter(output_file_path) as writer:\n",
    "    vehicles_by_date.to_excel(writer, sheet_name='Vehicles_by_Date', index=False)\n",
    "    most_frequent_parts.to_excel(writer, sheet_name='Most_Frequent_Parts', index=False)\n",
    "    least_frequent_parts.to_excel(writer, sheet_name='Least_Frequent_Parts', index=False)\n",
    "    vehicles_thoroughly_inspected.to_excel(writer, sheet_name='Thoroughly_Inspected', index=False)\n",
    "    parts_detected_3_or_more.to_excel(writer, sheet_name='Parts_Detected_3_or_More', index=False)\n",
    "    vehicle_inspection_counts.to_excel(writer, sheet_name='Vehicle_Inspection_Counts', index=False)\n",
    "    parts_detected_less_then3.to_excel(writer, sheet_name='less_than_3parts', index=False)"
   ]
  },
  {
   "cell_type": "code",
   "execution_count": null,
   "id": "7c1b4492",
   "metadata": {},
   "outputs": [],
   "source": []
  },
  {
   "cell_type": "code",
   "execution_count": null,
   "id": "c51681ae",
   "metadata": {},
   "outputs": [],
   "source": []
  },
  {
   "cell_type": "code",
   "execution_count": null,
   "id": "82c305b6",
   "metadata": {},
   "outputs": [],
   "source": []
  },
  {
   "cell_type": "code",
   "execution_count": null,
   "id": "e94be8fa",
   "metadata": {},
   "outputs": [],
   "source": []
  },
  {
   "cell_type": "code",
   "execution_count": null,
   "id": "ac8b7b13",
   "metadata": {},
   "outputs": [],
   "source": []
  },
  {
   "cell_type": "code",
   "execution_count": null,
   "id": "ea94cc54",
   "metadata": {},
   "outputs": [],
   "source": []
  },
  {
   "cell_type": "code",
   "execution_count": null,
   "id": "120830cf",
   "metadata": {},
   "outputs": [],
   "source": []
  },
  {
   "cell_type": "code",
   "execution_count": null,
   "id": "2c548af1",
   "metadata": {},
   "outputs": [],
   "source": []
  },
  {
   "cell_type": "code",
   "execution_count": null,
   "id": "d7c9553f",
   "metadata": {},
   "outputs": [],
   "source": []
  },
  {
   "cell_type": "code",
   "execution_count": null,
   "id": "9161c698",
   "metadata": {},
   "outputs": [],
   "source": []
  },
  {
   "cell_type": "code",
   "execution_count": null,
   "id": "f14f6ed4",
   "metadata": {},
   "outputs": [],
   "source": []
  },
  {
   "cell_type": "code",
   "execution_count": null,
   "id": "99691d38",
   "metadata": {},
   "outputs": [],
   "source": []
  },
  {
   "cell_type": "code",
   "execution_count": null,
   "id": "f8451872",
   "metadata": {},
   "outputs": [],
   "source": []
  },
  {
   "cell_type": "code",
   "execution_count": null,
   "id": "f618bc0b",
   "metadata": {},
   "outputs": [],
   "source": []
  },
  {
   "cell_type": "code",
   "execution_count": null,
   "id": "4ec03ce7",
   "metadata": {},
   "outputs": [],
   "source": []
  },
  {
   "cell_type": "code",
   "execution_count": null,
   "id": "771edf3b",
   "metadata": {},
   "outputs": [],
   "source": []
  },
  {
   "cell_type": "code",
   "execution_count": null,
   "id": "ed7ebd53",
   "metadata": {},
   "outputs": [],
   "source": []
  },
  {
   "cell_type": "code",
   "execution_count": null,
   "id": "629dee9a",
   "metadata": {},
   "outputs": [],
   "source": []
  },
  {
   "cell_type": "code",
   "execution_count": null,
   "id": "013ea90d",
   "metadata": {},
   "outputs": [],
   "source": []
  },
  {
   "cell_type": "code",
   "execution_count": null,
   "id": "c97f71c8",
   "metadata": {},
   "outputs": [],
   "source": []
  }
 ],
 "metadata": {
  "kernelspec": {
   "display_name": "Python 3 (ipykernel)",
   "language": "python",
   "name": "python3"
  },
  "language_info": {
   "codemirror_mode": {
    "name": "ipython",
    "version": 3
   },
   "file_extension": ".py",
   "mimetype": "text/x-python",
   "name": "python",
   "nbconvert_exporter": "python",
   "pygments_lexer": "ipython3",
   "version": "3.9.12"
  }
 },
 "nbformat": 4,
 "nbformat_minor": 5
}
